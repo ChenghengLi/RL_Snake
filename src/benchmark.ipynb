{
 "cells": [
  {
   "cell_type": "markdown",
   "metadata": {},
   "source": [
    "### Final Benchmarking Notebook\n",
    "\n",
    "This notebook contains the code that loads the best agents for each QL/DQL - reward function combination and tests them on a 10x10 and 32x20 grids.\n",
    "\n",
    "Results in Figure #10 in the paper"
   ]
  },
  {
   "cell_type": "code",
   "execution_count": null,
   "metadata": {},
   "outputs": [],
   "source": [
    "from game import SnakeGame\n",
    "from agents.QLearning import QLearning\n",
    "from agents.DQLearning_GPU import DeepQLearning\n",
    "\n",
    "from utils.utils import benchmark, plot, play_snake\n",
    "import pygame\n",
    "\n",
    "game = SnakeGame(200, 200)\n",
    "Qmodel = QLearning(game)\n",
    "DQmodel = DeepQLearning(game)\n",
    "\n",
    "############ QL Scores ############\n",
    "# naive\n",
    "filename='policies/QL/best_naive_policy.txt'\n",
    "Qmodel.load_model(filename)\n",
    "ql_naive_10, ql_naive_10_avg = benchmark(Qmodel, 200, 200)\n",
    "ql_naive_32, ql_naive_32_avg = benchmark(Qmodel, 640, 400)\n",
    "\n",
    "# advanced naive\n",
    "filename='policies/QL/best_advanced_naive_policy.txt'\n",
    "Qmodel.load_model(filename)\n",
    "ql_advanced_10, ql_advanced_10_avg = benchmark(Qmodel, 200, 200)\n",
    "ql_advanced_32, ql_advanced_32_avg = benchmark(Qmodel, 640, 400)\n",
    "\n",
    "# manhattan distance\n",
    "filename='policies/QL/QL b_manhattan_policy.txt'\n",
    "Qmodel.load_model(filename)\n",
    "ql_manhattan_10, ql_manhattan_10_avg = benchmark(Qmodel, 200, 200)\n",
    "ql_manhattan_32, ql_manhattan_32_avg = benchmark(Qmodel, 640, 400)"
   ]
  },
  {
   "cell_type": "code",
   "execution_count": 4,
   "metadata": {},
   "outputs": [
    {
     "name": "stderr",
     "output_type": "stream",
     "text": [
      "100%|██████████| 1000/1000 [01:39<00:00, 10.09it/s]\n",
      "100%|██████████| 1000/1000 [01:35<00:00, 10.47it/s]\n",
      "100%|██████████| 1000/1000 [04:37<00:00,  3.60it/s]\n"
     ]
    }
   ],
   "source": [
    "############ DQL Scores ############\n",
    "\n",
    "### Some results copied from training.ipynb to reduce redundancy ###\n",
    "\n",
    "# naive\n",
    "filename='policies/DQL/best_naive_policy.txt'\n",
    "DQmodel.load_model(filename)\n",
    "dql_naive_10, dql_naive_10_avg = benchmark(DQmodel, 200, 200)\n",
    "dql_naive_32 = [59, 33, 60, 84, 51, 79, 71, 80, 74, 40, 34, 69, 60, 59, 55, 66, 58, 45, 33, 40, 66, 65, 59, 93, 96, 75, 43, 90, 62, 66, 84, 60, 67, 33, 58, 79, 58, 69, 48, 68, 86, 93, 61, 51, 65, 40, 80, 86, 51, 53, 45, 43, 51, 78, 78, 91, 79, 71, 68, 74, 46, 51, 83, 54, 59, 78, 95, 66, 36, 47, 84, 53, 78, 49, 36, 51, 31, 85, 67, 14, 45, 34, 21, 48, 76, 45, 45, 51, 108, 76, 84, 57, 14, 88, 49, 54, 62, 84, 34, 63, 25, 67, 84, 56, 54, 79, 37, 67, 67, 54, 66, 71, 51, 55, 63, 18, 14, 84, 68, 55, 56, 90, 31, 90, 6, 65, 37, 53, 74, 57, 59, 45, 76, 66, 63, 47, 61, 60, 34, 56, 32, 46, 27, 58, 62, 50, 74, 78, 14, 56, 53, 54, 15, 25, 65, 76, 74, 78, 53, 75, 46, 102, 84, 70, 88, 51, 85, 85, 11, 87, 95, 56, 57, 52, 40, 53, 55, 56, 79, 82, 35, 98, 69, 65, 72, 32, 92, 77, 81, 103, 97, 67, 49, 97, 69, 63, 62, 26, 65, 42, 62, 72, 64, 38, 50, 56, 72, 75, 87, 65, 77, 55, 74, 64, 75, 47, 35, 55, 73, 65, 67, 52, 41, 27, 56, 80, 70, 30, 56, 77, 81, 67, 66, 69, 53, 23, 56, 79, 76, 57, 53, 60, 68, 67, 83, 61, 60, 60, 54, 49, 54, 60, 35, 70, 55, 48, 58, 43, 53, 103, 25, 76, 90, 64, 77, 27, 68, 97, 21, 68, 83, 54, 73, 68, 86, 59, 37, 51, 95, 24, 33, 69, 75, 41, 71, 87, 67, 72, 60, 78, 58, 88, 75, 37, 69, 42, 72, 43, 95, 31, 54, 66, 53, 38, 46, 69, 85, 71, 85, 55, 61, 77, 38, 65, 53, 77, 54, 69, 93, 64, 41, 73, 87, 70, 92, 77, 94, 56, 60, 32, 93, 85, 75, 62, 90, 32, 77, 64, 74, 61, 64, 78, 42, 49, 43, 28, 64, 61, 54, 28, 60, 104, 71, 52, 71, 54, 40, 57, 75, 29, 49, 67, 30, 94, 61, 71, 67, 72, 72, 57, 83, 58, 57, 87, 62, 14, 44, 46, 32, 88, 76, 64, 35, 97, 24, 72, 88, 93, 32, 20, 40, 87, 89, 91, 41, 35, 64, 96, 70, 69, 66, 50, 24, 69, 35, 66, 90, 92, 67, 35, 83, 25, 72, 75, 46, 61, 85, 99, 71, 63, 68, 87, 74, 42, 78, 43, 78, 35, 54, 33, 41, 67, 33, 61, 22, 85, 73, 73, 91, 47, 61, 25, 64, 31, 49, 40, 63, 43, 54, 37, 64, 22, 68, 94, 71, 77, 80, 52, 57, 32, 53, 89, 102, 71, 30, 33, 40, 37, 32, 31, 21, 63, 85, 50, 89, 52, 88, 51, 33, 58, 40, 89, 88, 61, 65, 29, 77, 75, 48, 76, 49, 60, 53, 44, 57, 39, 91, 83, 32, 48, 23, 55, 39, 80, 25, 62, 57, 47, 54, 83, 68, 98, 87, 41, 71, 81, 41, 56, 39, 85, 57, 63, 110, 42, 63, 48, 77, 49, 36, 41, 63, 66, 55, 44, 49, 56, 86, 39, 49, 98, 21, 87, 48, 65, 58, 85, 53, 69, 73, 65, 56, 107, 68, 64, 71, 81, 21, 90, 71, 42, 49, 75, 79, 51, 68, 35, 20, 64, 21, 30, 87, 52, 74, 58, 70, 58, 18, 87, 86, 38, 79, 88, 24, 100, 46, 83, 65, 67, 46, 81, 39, 26, 53, 41, 96, 48, 94, 36, 77, 27, 56, 61, 95, 68, 48, 88, 76, 87, 30, 86, 51, 70, 40, 52, 85, 64, 11, 35, 77, 37, 63, 78, 87, 61, 84, 92, 81, 65, 80, 67, 46, 88, 57, 31, 52, 54, 45, 26, 40, 77, 67, 75, 65, 38, 44, 42, 59, 66, 87, 48, 59, 54, 72, 59, 65, 28, 68, 104, 64, 44, 44, 44, 121, 31, 74, 45, 73, 49, 51, 40, 75, 31, 67, 74, 81, 69, 23, 72, 105, 70, 31, 71, 69, 60, 45, 65, 23, 29, 84, 57, 74, 92, 57, 81, 100, 26, 96, 112, 32, 63, 83, 92, 45, 55, 88, 71, 97, 58, 90, 72, 67, 34, 57, 23, 58, 77, 31, 65, 58, 56, 39, 41, 26, 88, 11, 19, 23, 71, 75, 61, 38, 65, 60, 47, 60, 98, 54, 44, 56, 73, 55, 27, 98, 57, 61, 32, 67, 54, 88, 18, 80, 66, 79, 75, 73, 65, 42, 74, 72, 81, 92, 64, 41, 69, 64, 69, 56, 87, 19, 92, 67, 89, 34, 85, 70, 29, 72, 37, 73, 68, 28, 62, 23, 61, 59, 41, 69, 58, 62, 39, 64, 44, 75, 88, 44, 70, 94, 67, 64, 69, 56, 83, 76, 55, 103, 63, 38, 90, 62, 24, 77, 37, 75, 49, 84, 64, 72, 25, 84, 63, 55, 47, 36, 16, 71, 24, 50, 62, 64, 66, 82, 75, 69, 40, 84, 100, 41, 75, 74, 92, 20, 76, 71, 64, 45, 81, 81, 58, 66, 54, 47, 57, 75, 100, 69, 38, 65, 39, 27, 57, 104, 17, 57, 43, 91, 96, 62, 55, 93, 50, 61, 66, 52, 65, 41, 83, 27, 67, 61, 25, 70, 59, 72, 75, 84, 84, 70, 55, 73, 63, 34, 21, 49, 50, 49, 75, 17, 61, 63, 68, 62, 62, 86, 52, 26, 76, 90, 71, 35, 70, 101, 65, 40, 89, 36, 76, 69, 75, 65, 62, 46, 87, 62, 64, 40, 104, 39, 92, 43, 70, 90, 75, 47, 17, 51, 22, 58, 50, 69, 59, 83, 86, 48, 25, 74, 72, 16, 90, 69, 79, 51, 91, 48, 37, 71, 62, 64, 62, 71, 18, 88, 72, 30, 72, 42, 30, 45, 66, 94, 79, 71, 64, 75, 74, 97, 52, 35, 82, 50, 82, 78, 51, 60]\n",
    "dql_naive_32_avg = sum(dql_naive_32) / len(dql_naive_32)\n",
    "\n",
    "# advanced naive\n",
    "filename='policies/DQL/best_advanced_naive_policy.txt'\n",
    "DQmodel.load_model(filename)\n",
    "dql_advanced_10, dql_advanced_10_avg = benchmark(DQmodel, 200, 200)\n",
    "dql_advanced_32 = [46, 78, 69, 41, 22, 50, 15, 63, 87, 43, 17, 91, 25, 61, 68, 37, 65, 58, 71, 65, 54, 66, 64, 62, 36, 67, 71, 49, 88, 26, 79, 80, 49, 103, 26, 19, 71, 47, 39, 59, 96, 73, 65, 44, 88, 79, 28, 66, 60, 67, 94, 44, 25, 15, 59, 66, 93, 39, 80, 93, 73, 38, 48, 74, 88, 45, 72, 80, 89, 48, 74, 84, 52, 79, 81, 19, 52, 56, 56, 72, 61, 92, 48, 59, 52, 58, 76, 71, 45, 14, 76, 44, 50, 91, 67, 55, 40, 26, 86, 93, 30, 90, 76, 96, 38, 34, 63, 77, 67, 63, 72, 59, 66, 79, 67, 70, 60, 50, 50, 55, 63, 38, 62, 69, 68, 73, 62, 85, 43, 45, 44, 60, 97, 60, 93, 54, 83, 110, 79, 70, 77, 45, 68, 35, 79, 65, 69, 84, 43, 71, 63, 93, 33, 63, 40, 99, 11, 50, 70, 72, 62, 46, 35, 62, 33, 58, 71, 55, 70, 65, 70, 70, 75, 40, 52, 56, 70, 59, 35, 37, 48, 71, 50, 85, 70, 62, 35, 67, 39, 49, 49, 76, 60, 58, 61, 98, 40, 92, 45, 42, 50, 63, 42, 70, 26, 31, 58, 42, 27, 68, 32, 83, 69, 58, 27, 64, 45, 53, 63, 67, 81, 57, 71, 69, 53, 87, 46, 102, 57, 35, 68, 75, 67, 63, 72, 74, 71, 64, 72, 53, 54, 38, 75, 48, 80, 98, 67, 47, 55, 67, 104, 60, 77, 63, 67, 76, 72, 69, 60, 35, 52, 44, 83, 97, 34, 73, 37, 67, 84, 70, 73, 51, 45, 46, 45, 50, 40, 73, 107, 17, 58, 56, 18, 39, 33, 57, 53, 60, 63, 68, 57, 32, 77, 80, 92, 85, 62, 80, 28, 40, 54, 59, 69, 45, 83, 30, 47, 71, 57, 41, 33, 28, 82, 56, 44, 80, 29, 74, 59, 92, 58, 48, 35, 64, 15, 55, 58, 67, 86, 26, 55, 38, 84, 96, 84, 44, 66, 32, 82, 50, 74, 48, 68, 45, 37, 24, 68, 44, 86, 26, 54, 69, 71, 47, 68, 51, 88, 93, 68, 81, 59, 66, 57, 46, 65, 46, 41, 68, 67, 85, 45, 29, 86, 23, 68, 56, 44, 71, 85, 90, 48, 48, 75, 58, 59, 53, 75, 58, 77, 41, 60, 48, 64, 73, 65, 11, 82, 11, 78, 65, 68, 59, 51, 74, 48, 68, 46, 83, 36, 56, 56, 66, 75, 63, 81, 60, 84, 70, 32, 67, 22, 69, 24, 68, 89, 54, 92, 79, 15, 63, 53, 64, 68, 49, 58, 49, 53, 44, 83, 58, 66, 78, 64, 77, 52, 54, 50, 50, 71, 47, 61, 33, 94, 93, 33, 78, 42, 52, 61, 92, 43, 54, 33, 50, 71, 74, 40, 63, 52, 77, 55, 83, 69, 63, 39, 26, 81, 44, 57, 84, 71, 38, 68, 45, 86, 87, 60, 31, 76, 27, 25, 69, 47, 41, 37, 45, 26, 79, 51, 66, 63, 109, 36, 71, 71, 69, 48, 27, 103, 85, 51, 56, 57, 30, 82, 42, 62, 28, 38, 38, 55, 62, 90, 56, 70, 36, 31, 67, 78, 57, 85, 49, 45, 66, 72, 82, 77, 65, 74, 60, 83, 33, 29, 47, 82, 17, 114, 16, 45, 73, 87, 44, 87, 18, 42, 87, 59, 41, 74, 49, 38, 62, 57, 35, 36, 35, 68, 36, 75, 61, 92, 66, 84, 69, 26, 15, 44, 35, 93, 65, 47, 50, 54, 21, 46, 75, 74, 60, 78, 57, 78, 38, 24, 20, 83, 43, 60, 88, 82, 63, 48, 89, 73, 75, 39, 76, 25, 91, 65, 46, 51, 55, 72, 66, 80, 82, 41, 74, 50, 71, 80, 86, 70, 58, 86, 65, 32, 47, 54, 68, 53, 69, 76, 51, 31, 37, 74, 74, 76, 74, 57, 52, 66, 70, 77, 65, 25, 59, 75, 37, 63, 43, 45, 41, 93, 39, 53, 81, 46, 94, 82, 41, 56, 34, 64, 75, 48, 81, 55, 40, 48, 80, 54, 55, 95, 83, 28, 41, 38, 45, 77, 85, 61, 82, 51, 60, 44, 59, 48, 52, 63, 100, 37, 46, 59, 68, 57, 50, 56, 59, 11, 55, 96, 46, 55, 12, 62, 75, 95, 86, 61, 28, 62, 51, 32, 64, 54, 61, 82, 67, 81, 63, 69, 45, 81, 78, 47, 66, 92, 64, 57, 25, 34, 52, 53, 75, 80, 17, 53, 28, 68, 66, 61, 40, 66, 35, 27, 72, 56, 26, 52, 41, 51, 36, 90, 33, 11, 40, 86, 73, 28, 72, 23, 36, 59, 57, 69, 73, 49, 48, 64, 72, 55, 84, 45, 97, 84, 40, 59, 64, 75, 48, 84, 76, 30, 76, 40, 62, 80, 79, 69, 40, 53, 47, 43, 63, 68, 67, 98, 66, 66, 58, 49, 71, 70, 15, 74, 87, 83, 88, 66, 91, 38, 71, 93, 74, 71, 60, 77, 78, 48, 91, 69, 107, 75, 34, 52, 82, 69, 70, 78, 51, 41, 59, 84, 80, 68, 55, 58, 42, 66, 14, 21, 72, 70, 45, 57, 61, 92, 87, 76, 71, 65, 57, 44, 84, 85, 40, 16, 82, 32, 61, 47, 30, 84, 65, 60, 101, 46, 74, 79, 75, 77, 80, 30, 49, 37, 68, 52, 55, 81, 79, 82, 55, 59, 51, 37, 98, 80, 45, 13, 86, 61, 66, 20, 52, 88, 56, 59, 43, 66, 81, 51, 64, 38, 52, 94, 20, 51, 66, 36, 34, 100, 80, 77, 27, 42, 55, 65, 91, 78, 55, 84, 74, 68, 66, 74, 86, 67, 51, 66, 52, 83, 64, 71, 95, 29, 58, 54, 53, 41, 109, 91, 74, 46, 68, 65, 100, 68, 61, 40, 75, 41, 54, 84, 95, 56, 82, 85, 65, 29, 55, 57, 36, 55, 83, 61, 63, 70, 79, 46, 62, 54, 73, 71, 79, 56, 34]\n",
    "dql_advanced_32_avg = sum(dql_advanced_32) / len(dql_advanced_32)\n",
    "\n",
    "# manhattan distance\n",
    "filename='policies/DQL/best_manhattan_policy.txt'\n",
    "DQmodel.load_model(filename)\n",
    "dql_manhattan_10, dql_manhattan_10_avg = benchmark(DQmodel, 200, 200)\n",
    "dql_manhattan_32 = [81, 31, 62, 50, 88, 99, 42, 46, 36, 31, 59, 31, 38, 53, 28, 40, 57, 53, 77, 57, 87, 49, 77, 75, 72, 44, 77, 13, 55, 65, 24, 15, 52, 63, 62, 50, 60, 51, 47, 26, 39, 38, 68, 53, 65, 60, 40, 50, 40, 34, 68, 50, 64, 38, 82, 74, 58, 69, 46, 100, 47, 34, 64, 12, 112, 42, 61, 40, 58, 63, 53, 51, 55, 58, 57, 47, 69, 53, 21, 41, 67, 86, 30, 30, 41, 48, 38, 45, 59, 36, 82, 67, 55, 64, 34, 74, 41, 76, 63, 60, 43, 41, 41, 63, 67, 52, 62, 30, 34, 71, 16, 55, 71, 59, 54, 79, 53, 48, 45, 82, 77, 48, 47, 83, 40, 88, 35, 61, 72, 89, 37, 39, 57, 65, 50, 35, 62, 34, 47, 34, 53, 77, 52, 37, 58, 81, 82, 41, 23, 60, 24, 69, 71, 59, 41, 53, 70, 62, 70, 65, 76, 50, 49, 19, 24, 79, 45, 68, 57, 61, 83, 56, 25, 68, 65, 69, 46, 42, 39, 51, 58, 52, 24, 21, 74, 78, 55, 58, 48, 44, 49, 36, 46, 56, 64, 71, 53, 56, 61, 84, 72, 79, 33, 33, 66, 65, 59, 88, 68, 37, 61, 73, 57, 42, 21, 38, 79, 42, 131, 71, 55, 76, 52, 51, 35, 40, 13, 77, 39, 71, 20, 63, 49, 40, 67, 57, 70, 63, 37, 71, 67, 55, 76, 67, 53, 43, 67, 35, 58, 47, 74, 79, 80, 28, 55, 58, 22, 32, 37, 53, 65, 58, 36, 61, 49, 73, 16, 55, 57, 19, 66, 30, 74, 37, 77, 60, 74, 30, 61, 82, 44, 56, 51, 46, 56, 46, 47, 47, 63, 67, 53, 51, 32, 16, 76, 54, 64, 56, 54, 55, 61, 56, 40, 95, 48, 62, 82, 46, 25, 89, 29, 38, 46, 61, 43, 59, 66, 77, 64, 24, 65, 43, 22, 29, 35, 22, 18, 49, 53, 45, 45, 55, 43, 66, 58, 63, 58, 29, 38, 68, 61, 48, 38, 36, 28, 41, 15, 46, 73, 16, 58, 83, 75, 65, 36, 48, 61, 83, 71, 26, 43, 59, 64, 40, 80, 49, 53, 64, 73, 49, 41, 38, 45, 75, 65, 26, 76, 69, 68, 29, 57, 25, 41, 72, 64, 86, 50, 51, 59, 35, 63, 52, 60, 39, 67, 46, 79, 78, 49, 53, 58, 67, 61, 30, 49, 81, 60, 41, 48, 45, 46, 57, 93, 75, 46, 80, 64, 22, 79, 37, 48, 56, 63, 63, 57, 41, 49, 29, 51, 51, 80, 27, 66, 44, 48, 52, 70, 69, 25, 57, 103, 25, 37, 37, 48, 51, 58, 43, 25, 22, 41, 51, 25, 31, 34, 60, 20, 56, 29, 81, 58, 38, 72, 51, 74, 78, 72, 41, 19, 65, 43, 67, 55, 64, 84, 45, 102, 51, 71, 22, 46, 54, 37, 42, 80, 75, 31, 36, 61, 58, 62, 29, 81, 62, 76, 63, 46, 40, 64, 58, 51, 95, 25, 70, 64, 66, 64, 56, 52, 32, 48, 61, 46, 56, 58, 63, 36, 54, 41, 80, 43, 67, 64, 57, 48, 53, 48, 35, 44, 78, 16, 55, 45, 44, 67, 86, 51, 62, 87, 68, 40, 37, 66, 56, 66, 61, 60, 49, 45, 29, 46, 90, 20, 28, 31, 39, 71, 67, 48, 88, 72, 69, 75, 84, 37, 53, 55, 45, 59, 37, 36, 57, 79, 57, 52, 61, 33, 41, 40, 62, 52, 35, 46, 53, 25, 33, 17, 45, 66, 73, 31, 63, 62, 50, 62, 79, 50, 48, 71, 74, 92, 65, 75, 30, 56, 74, 47, 39, 89, 19, 52, 49, 40, 79, 64, 74, 49, 56, 53, 69, 75, 62, 58, 56, 16, 45, 76, 36, 60, 34, 35, 53, 67, 56, 40, 68, 60, 15, 73, 75, 55, 65, 30, 46, 61, 34, 71, 39, 84, 61, 48, 53, 89, 42, 48, 65, 66, 47, 58, 31, 44, 18, 61, 44, 60, 41, 30, 59, 54, 39, 65, 70, 41, 40, 34, 54, 65, 56, 84, 101, 33, 66, 58, 81, 48, 79, 61, 74, 39, 28, 46]\n",
    "dql_manhattan_32_avg = sum(dql_manhattan_32) / len(dql_manhattan_32)"
   ]
  },
  {
   "cell_type": "code",
   "execution_count": 15,
   "metadata": {},
   "outputs": [
    {
     "data": {
      "application/vnd.plotly.v1+json": {
       "config": {
        "plotlyServerURL": "https://plot.ly"
       },
       "data": [
        {
         "line": {
          "dash": "dot",
          "width": 2
         },
         "marker": {
          "color": "rgb(70, 130, 180)"
         },
         "mode": "lines+markers",
         "name": "Average Score (10x10)",
         "type": "scatter",
         "x": [
          "QL Naive",
          "QL Advanced Naive",
          "QL Manhattan",
          "DQL Naive",
          "DQL Advanced Naive",
          "DQL Manhattan"
         ],
         "y": [
          30.649,
          31.269,
          28.588,
          24.063,
          23.834,
          34.73489519112207
         ]
        },
        {
         "line": {
          "dash": "solid",
          "width": 2
         },
         "marker": {
          "color": "rgb(70, 130, 180)"
         },
         "mode": "lines+markers",
         "name": "Max Score (10x10)",
         "type": "scatter",
         "x": [
          "QL Naive",
          "QL Advanced Naive",
          "QL Manhattan",
          "DQL Naive",
          "DQL Advanced Naive",
          "DQL Manhattan"
         ],
         "y": [
          50,
          51,
          45,
          50,
          53,
          57
         ]
        },
        {
         "line": {
          "dash": "dot",
          "width": 2
         },
         "marker": {
          "color": "rgb(255, 0, 0)"
         },
         "mode": "lines+markers",
         "name": "Average Score (32x20)",
         "type": "scatter",
         "x": [
          "QL Naive",
          "QL Advanced Naive",
          "QL Manhattan",
          "DQL Naive",
          "DQL Advanced Naive",
          "DQL Manhattan"
         ],
         "y": [
          82.93769152196118,
          87.82262996941895,
          72.22645290581163,
          61.044760935910475,
          60.149284253578735,
          54.01881331403763
         ]
        },
        {
         "line": {
          "dash": "solid",
          "width": 2
         },
         "marker": {
          "color": "rgb(255, 0, 0)"
         },
         "mode": "lines+markers",
         "name": "Max Score (32x20)",
         "type": "scatter",
         "x": [
          "QL Naive",
          "QL Advanced Naive",
          "QL Manhattan",
          "DQL Naive",
          "DQL Advanced Naive",
          "DQL Manhattan"
         ],
         "y": [
          136,
          134,
          125,
          121,
          114,
          131
         ]
        }
       ],
       "layout": {
        "height": 600,
        "legend": {
         "bgcolor": "rgba(255, 255, 255, 0)",
         "bordercolor": "rgba(255, 255, 255, 0)",
         "font": {
          "size": 16
         },
         "x": 1.05,
         "y": 1
        },
        "template": {
         "data": {
          "bar": [
           {
            "error_x": {
             "color": "#2a3f5f"
            },
            "error_y": {
             "color": "#2a3f5f"
            },
            "marker": {
             "line": {
              "color": "white",
              "width": 0.5
             },
             "pattern": {
              "fillmode": "overlay",
              "size": 10,
              "solidity": 0.2
             }
            },
            "type": "bar"
           }
          ],
          "barpolar": [
           {
            "marker": {
             "line": {
              "color": "white",
              "width": 0.5
             },
             "pattern": {
              "fillmode": "overlay",
              "size": 10,
              "solidity": 0.2
             }
            },
            "type": "barpolar"
           }
          ],
          "carpet": [
           {
            "aaxis": {
             "endlinecolor": "#2a3f5f",
             "gridcolor": "#C8D4E3",
             "linecolor": "#C8D4E3",
             "minorgridcolor": "#C8D4E3",
             "startlinecolor": "#2a3f5f"
            },
            "baxis": {
             "endlinecolor": "#2a3f5f",
             "gridcolor": "#C8D4E3",
             "linecolor": "#C8D4E3",
             "minorgridcolor": "#C8D4E3",
             "startlinecolor": "#2a3f5f"
            },
            "type": "carpet"
           }
          ],
          "choropleth": [
           {
            "colorbar": {
             "outlinewidth": 0,
             "ticks": ""
            },
            "type": "choropleth"
           }
          ],
          "contour": [
           {
            "colorbar": {
             "outlinewidth": 0,
             "ticks": ""
            },
            "colorscale": [
             [
              0,
              "#0d0887"
             ],
             [
              0.1111111111111111,
              "#46039f"
             ],
             [
              0.2222222222222222,
              "#7201a8"
             ],
             [
              0.3333333333333333,
              "#9c179e"
             ],
             [
              0.4444444444444444,
              "#bd3786"
             ],
             [
              0.5555555555555556,
              "#d8576b"
             ],
             [
              0.6666666666666666,
              "#ed7953"
             ],
             [
              0.7777777777777778,
              "#fb9f3a"
             ],
             [
              0.8888888888888888,
              "#fdca26"
             ],
             [
              1,
              "#f0f921"
             ]
            ],
            "type": "contour"
           }
          ],
          "contourcarpet": [
           {
            "colorbar": {
             "outlinewidth": 0,
             "ticks": ""
            },
            "type": "contourcarpet"
           }
          ],
          "heatmap": [
           {
            "colorbar": {
             "outlinewidth": 0,
             "ticks": ""
            },
            "colorscale": [
             [
              0,
              "#0d0887"
             ],
             [
              0.1111111111111111,
              "#46039f"
             ],
             [
              0.2222222222222222,
              "#7201a8"
             ],
             [
              0.3333333333333333,
              "#9c179e"
             ],
             [
              0.4444444444444444,
              "#bd3786"
             ],
             [
              0.5555555555555556,
              "#d8576b"
             ],
             [
              0.6666666666666666,
              "#ed7953"
             ],
             [
              0.7777777777777778,
              "#fb9f3a"
             ],
             [
              0.8888888888888888,
              "#fdca26"
             ],
             [
              1,
              "#f0f921"
             ]
            ],
            "type": "heatmap"
           }
          ],
          "heatmapgl": [
           {
            "colorbar": {
             "outlinewidth": 0,
             "ticks": ""
            },
            "colorscale": [
             [
              0,
              "#0d0887"
             ],
             [
              0.1111111111111111,
              "#46039f"
             ],
             [
              0.2222222222222222,
              "#7201a8"
             ],
             [
              0.3333333333333333,
              "#9c179e"
             ],
             [
              0.4444444444444444,
              "#bd3786"
             ],
             [
              0.5555555555555556,
              "#d8576b"
             ],
             [
              0.6666666666666666,
              "#ed7953"
             ],
             [
              0.7777777777777778,
              "#fb9f3a"
             ],
             [
              0.8888888888888888,
              "#fdca26"
             ],
             [
              1,
              "#f0f921"
             ]
            ],
            "type": "heatmapgl"
           }
          ],
          "histogram": [
           {
            "marker": {
             "pattern": {
              "fillmode": "overlay",
              "size": 10,
              "solidity": 0.2
             }
            },
            "type": "histogram"
           }
          ],
          "histogram2d": [
           {
            "colorbar": {
             "outlinewidth": 0,
             "ticks": ""
            },
            "colorscale": [
             [
              0,
              "#0d0887"
             ],
             [
              0.1111111111111111,
              "#46039f"
             ],
             [
              0.2222222222222222,
              "#7201a8"
             ],
             [
              0.3333333333333333,
              "#9c179e"
             ],
             [
              0.4444444444444444,
              "#bd3786"
             ],
             [
              0.5555555555555556,
              "#d8576b"
             ],
             [
              0.6666666666666666,
              "#ed7953"
             ],
             [
              0.7777777777777778,
              "#fb9f3a"
             ],
             [
              0.8888888888888888,
              "#fdca26"
             ],
             [
              1,
              "#f0f921"
             ]
            ],
            "type": "histogram2d"
           }
          ],
          "histogram2dcontour": [
           {
            "colorbar": {
             "outlinewidth": 0,
             "ticks": ""
            },
            "colorscale": [
             [
              0,
              "#0d0887"
             ],
             [
              0.1111111111111111,
              "#46039f"
             ],
             [
              0.2222222222222222,
              "#7201a8"
             ],
             [
              0.3333333333333333,
              "#9c179e"
             ],
             [
              0.4444444444444444,
              "#bd3786"
             ],
             [
              0.5555555555555556,
              "#d8576b"
             ],
             [
              0.6666666666666666,
              "#ed7953"
             ],
             [
              0.7777777777777778,
              "#fb9f3a"
             ],
             [
              0.8888888888888888,
              "#fdca26"
             ],
             [
              1,
              "#f0f921"
             ]
            ],
            "type": "histogram2dcontour"
           }
          ],
          "mesh3d": [
           {
            "colorbar": {
             "outlinewidth": 0,
             "ticks": ""
            },
            "type": "mesh3d"
           }
          ],
          "parcoords": [
           {
            "line": {
             "colorbar": {
              "outlinewidth": 0,
              "ticks": ""
             }
            },
            "type": "parcoords"
           }
          ],
          "pie": [
           {
            "automargin": true,
            "type": "pie"
           }
          ],
          "scatter": [
           {
            "fillpattern": {
             "fillmode": "overlay",
             "size": 10,
             "solidity": 0.2
            },
            "type": "scatter"
           }
          ],
          "scatter3d": [
           {
            "line": {
             "colorbar": {
              "outlinewidth": 0,
              "ticks": ""
             }
            },
            "marker": {
             "colorbar": {
              "outlinewidth": 0,
              "ticks": ""
             }
            },
            "type": "scatter3d"
           }
          ],
          "scattercarpet": [
           {
            "marker": {
             "colorbar": {
              "outlinewidth": 0,
              "ticks": ""
             }
            },
            "type": "scattercarpet"
           }
          ],
          "scattergeo": [
           {
            "marker": {
             "colorbar": {
              "outlinewidth": 0,
              "ticks": ""
             }
            },
            "type": "scattergeo"
           }
          ],
          "scattergl": [
           {
            "marker": {
             "colorbar": {
              "outlinewidth": 0,
              "ticks": ""
             }
            },
            "type": "scattergl"
           }
          ],
          "scattermapbox": [
           {
            "marker": {
             "colorbar": {
              "outlinewidth": 0,
              "ticks": ""
             }
            },
            "type": "scattermapbox"
           }
          ],
          "scatterpolar": [
           {
            "marker": {
             "colorbar": {
              "outlinewidth": 0,
              "ticks": ""
             }
            },
            "type": "scatterpolar"
           }
          ],
          "scatterpolargl": [
           {
            "marker": {
             "colorbar": {
              "outlinewidth": 0,
              "ticks": ""
             }
            },
            "type": "scatterpolargl"
           }
          ],
          "scatterternary": [
           {
            "marker": {
             "colorbar": {
              "outlinewidth": 0,
              "ticks": ""
             }
            },
            "type": "scatterternary"
           }
          ],
          "surface": [
           {
            "colorbar": {
             "outlinewidth": 0,
             "ticks": ""
            },
            "colorscale": [
             [
              0,
              "#0d0887"
             ],
             [
              0.1111111111111111,
              "#46039f"
             ],
             [
              0.2222222222222222,
              "#7201a8"
             ],
             [
              0.3333333333333333,
              "#9c179e"
             ],
             [
              0.4444444444444444,
              "#bd3786"
             ],
             [
              0.5555555555555556,
              "#d8576b"
             ],
             [
              0.6666666666666666,
              "#ed7953"
             ],
             [
              0.7777777777777778,
              "#fb9f3a"
             ],
             [
              0.8888888888888888,
              "#fdca26"
             ],
             [
              1,
              "#f0f921"
             ]
            ],
            "type": "surface"
           }
          ],
          "table": [
           {
            "cells": {
             "fill": {
              "color": "#EBF0F8"
             },
             "line": {
              "color": "white"
             }
            },
            "header": {
             "fill": {
              "color": "#C8D4E3"
             },
             "line": {
              "color": "white"
             }
            },
            "type": "table"
           }
          ]
         },
         "layout": {
          "annotationdefaults": {
           "arrowcolor": "#2a3f5f",
           "arrowhead": 0,
           "arrowwidth": 1
          },
          "autotypenumbers": "strict",
          "coloraxis": {
           "colorbar": {
            "outlinewidth": 0,
            "ticks": ""
           }
          },
          "colorscale": {
           "diverging": [
            [
             0,
             "#8e0152"
            ],
            [
             0.1,
             "#c51b7d"
            ],
            [
             0.2,
             "#de77ae"
            ],
            [
             0.3,
             "#f1b6da"
            ],
            [
             0.4,
             "#fde0ef"
            ],
            [
             0.5,
             "#f7f7f7"
            ],
            [
             0.6,
             "#e6f5d0"
            ],
            [
             0.7,
             "#b8e186"
            ],
            [
             0.8,
             "#7fbc41"
            ],
            [
             0.9,
             "#4d9221"
            ],
            [
             1,
             "#276419"
            ]
           ],
           "sequential": [
            [
             0,
             "#0d0887"
            ],
            [
             0.1111111111111111,
             "#46039f"
            ],
            [
             0.2222222222222222,
             "#7201a8"
            ],
            [
             0.3333333333333333,
             "#9c179e"
            ],
            [
             0.4444444444444444,
             "#bd3786"
            ],
            [
             0.5555555555555556,
             "#d8576b"
            ],
            [
             0.6666666666666666,
             "#ed7953"
            ],
            [
             0.7777777777777778,
             "#fb9f3a"
            ],
            [
             0.8888888888888888,
             "#fdca26"
            ],
            [
             1,
             "#f0f921"
            ]
           ],
           "sequentialminus": [
            [
             0,
             "#0d0887"
            ],
            [
             0.1111111111111111,
             "#46039f"
            ],
            [
             0.2222222222222222,
             "#7201a8"
            ],
            [
             0.3333333333333333,
             "#9c179e"
            ],
            [
             0.4444444444444444,
             "#bd3786"
            ],
            [
             0.5555555555555556,
             "#d8576b"
            ],
            [
             0.6666666666666666,
             "#ed7953"
            ],
            [
             0.7777777777777778,
             "#fb9f3a"
            ],
            [
             0.8888888888888888,
             "#fdca26"
            ],
            [
             1,
             "#f0f921"
            ]
           ]
          },
          "colorway": [
           "#636efa",
           "#EF553B",
           "#00cc96",
           "#ab63fa",
           "#FFA15A",
           "#19d3f3",
           "#FF6692",
           "#B6E880",
           "#FF97FF",
           "#FECB52"
          ],
          "font": {
           "color": "#2a3f5f"
          },
          "geo": {
           "bgcolor": "white",
           "lakecolor": "white",
           "landcolor": "white",
           "showlakes": true,
           "showland": true,
           "subunitcolor": "#C8D4E3"
          },
          "hoverlabel": {
           "align": "left"
          },
          "hovermode": "closest",
          "mapbox": {
           "style": "light"
          },
          "paper_bgcolor": "white",
          "plot_bgcolor": "white",
          "polar": {
           "angularaxis": {
            "gridcolor": "#EBF0F8",
            "linecolor": "#EBF0F8",
            "ticks": ""
           },
           "bgcolor": "white",
           "radialaxis": {
            "gridcolor": "#EBF0F8",
            "linecolor": "#EBF0F8",
            "ticks": ""
           }
          },
          "scene": {
           "xaxis": {
            "backgroundcolor": "white",
            "gridcolor": "#DFE8F3",
            "gridwidth": 2,
            "linecolor": "#EBF0F8",
            "showbackground": true,
            "ticks": "",
            "zerolinecolor": "#EBF0F8"
           },
           "yaxis": {
            "backgroundcolor": "white",
            "gridcolor": "#DFE8F3",
            "gridwidth": 2,
            "linecolor": "#EBF0F8",
            "showbackground": true,
            "ticks": "",
            "zerolinecolor": "#EBF0F8"
           },
           "zaxis": {
            "backgroundcolor": "white",
            "gridcolor": "#DFE8F3",
            "gridwidth": 2,
            "linecolor": "#EBF0F8",
            "showbackground": true,
            "ticks": "",
            "zerolinecolor": "#EBF0F8"
           }
          },
          "shapedefaults": {
           "line": {
            "color": "#2a3f5f"
           }
          },
          "ternary": {
           "aaxis": {
            "gridcolor": "#DFE8F3",
            "linecolor": "#A2B1C6",
            "ticks": ""
           },
           "baxis": {
            "gridcolor": "#DFE8F3",
            "linecolor": "#A2B1C6",
            "ticks": ""
           },
           "bgcolor": "white",
           "caxis": {
            "gridcolor": "#DFE8F3",
            "linecolor": "#A2B1C6",
            "ticks": ""
           }
          },
          "title": {
           "x": 0.05
          },
          "xaxis": {
           "automargin": true,
           "gridcolor": "#EBF0F8",
           "linecolor": "#EBF0F8",
           "ticks": "",
           "title": {
            "standoff": 15
           },
           "zerolinecolor": "#EBF0F8",
           "zerolinewidth": 2
          },
          "yaxis": {
           "automargin": true,
           "gridcolor": "#EBF0F8",
           "linecolor": "#EBF0F8",
           "ticks": "",
           "title": {
            "standoff": 15
           },
           "zerolinecolor": "#EBF0F8",
           "zerolinewidth": 2
          }
         }
        },
        "width": 1000,
        "xaxis": {
         "tickfont": {
          "size": 16
         },
         "title": {
          "font": {
           "size": 20
          },
          "text": "Policies"
         }
        },
        "yaxis": {
         "range": [
          0,
          150
         ],
         "tickfont": {
          "size": 16
         },
         "title": {
          "font": {
           "size": 20
          },
          "text": "Scores"
         }
        }
       }
      }
     },
     "metadata": {},
     "output_type": "display_data"
    }
   ],
   "source": [
    "import plotly.graph_objects as go\n",
    "\n",
    "# Labels for the categories\n",
    "categories = ['Naive', 'Advanced Naive', 'Manhattan']\n",
    "\n",
    "# Data for 10x10 grid\n",
    "max_scores_10x10 = [max(ql_naive_10), max(ql_advanced_10), max(ql_manhattan_10), max(dql_naive_10), max(dql_advanced_10), max(dql_manhattan_10)]\n",
    "avg_scores_10x10 = [ql_naive_10_avg, ql_advanced_10_avg, ql_manhattan_10_avg, dql_naive_10_avg, dql_advanced_10_avg, dql_manhattan_10_avg]\n",
    "\n",
    "# Data for 32x20 grid\n",
    "max_scores_32x20 = [max(ql_naive_32), max(ql_advanced_32), max(ql_manhattan_32), max(dql_naive_32), max(dql_advanced_32), max(dql_manhattan_32)]\n",
    "avg_scores_32x20 = [ql_naive_32_avg, ql_advanced_32_avg, ql_manhattan_32_avg, dql_naive_32_avg, dql_advanced_32_avg, dql_manhattan_32_avg]\n",
    "\n",
    "# Labels for plotting\n",
    "labels = [f'QL {cat}' for cat in categories] + [f'DQL {cat}' for cat in categories]\n",
    "\n",
    "# Create a figure\n",
    "fig = go.Figure()\n",
    "\n",
    "# Color settings\n",
    "color_10x10 = 'rgb(70, 130, 180)'  # Steel Blue\n",
    "color_32x20 = 'rgb(255, 0, 0)'    # Red-Orange\n",
    "\n",
    "# Add traces for the 10x10 grid\n",
    "fig.add_trace(go.Scatter(\n",
    "    x=labels,\n",
    "    y=avg_scores_10x10,\n",
    "    mode='lines+markers',\n",
    "    name='Average Score (10x10)',\n",
    "    marker=dict(color=color_10x10),\n",
    "    line=dict(width=2, dash='dot')  # Solid line for average\n",
    "))\n",
    "fig.add_trace(go.Scatter(\n",
    "    x=labels,\n",
    "    y=max_scores_10x10,\n",
    "    mode='lines+markers',\n",
    "    name='Max Score (10x10)',\n",
    "    marker=dict(color=color_10x10),\n",
    "    line=dict(width=2, dash='solid')  # Dotted line for max\n",
    "))\n",
    "\n",
    "# Add traces for the 32x20 grid\n",
    "fig.add_trace(go.Scatter(\n",
    "    x=labels,\n",
    "    y=avg_scores_32x20,\n",
    "    mode='lines+markers',\n",
    "    name='Average Score (32x20)',\n",
    "    marker=dict(color=color_32x20),\n",
    "    line=dict(width=2, dash='dot')  # Solid line for average\n",
    "))\n",
    "fig.add_trace(go.Scatter(\n",
    "    x=labels,\n",
    "    y=max_scores_32x20,\n",
    "    mode='lines+markers',\n",
    "    name='Max Score (32x20)',\n",
    "    marker=dict(color=color_32x20),\n",
    "    line=dict(width=2, dash='solid')  # Dotted line for max\n",
    "))\n",
    "\n",
    "# Update layout for enhanced clarity and readability\n",
    "fig.update_layout(\n",
    "    #title={'text': \"Score Comparison Across Reward Functions and Grid Sizes\", 'x': 0.5, 'font': {'size': 24}},\n",
    "    width=1000,\n",
    "    height=600,\n",
    "    template=\"plotly_white\",\n",
    "    xaxis=dict(\n",
    "        title='Policies',\n",
    "        titlefont={'size': 20},\n",
    "        tickfont={'size': 16}\n",
    "    ),\n",
    "    yaxis=dict(\n",
    "        title='Scores',\n",
    "        titlefont={'size': 20},\n",
    "        tickfont={'size': 16},\n",
    "        range=[0, 150]\n",
    "    ),\n",
    "    legend=dict(\n",
    "        x=1.05,\n",
    "        y=1,\n",
    "        bgcolor='rgba(255, 255, 255, 0)',\n",
    "        bordercolor='rgba(255, 255, 255, 0)',\n",
    "        font={'size': 16}\n",
    "    )\n",
    ")\n",
    "\n",
    "# Show the plot\n",
    "fig.show()\n"
   ]
  },
  {
   "cell_type": "code",
   "execution_count": 16,
   "metadata": {},
   "outputs": [
    {
     "name": "stdout",
     "output_type": "stream",
     "text": [
      "[50, 51, 45, 50, 53, 57]\n",
      "[30.649, 31.269, 28.588, 24.063, 23.834, 34.73489519112207]\n"
     ]
    }
   ],
   "source": [
    "print(max_scores_10x10)\n",
    "print(avg_scores_10x10)"
   ]
  }
 ],
 "metadata": {
  "kernelspec": {
   "display_name": "truthsystems",
   "language": "python",
   "name": "python3"
  },
  "language_info": {
   "codemirror_mode": {
    "name": "ipython",
    "version": 3
   },
   "file_extension": ".py",
   "mimetype": "text/x-python",
   "name": "python",
   "nbconvert_exporter": "python",
   "pygments_lexer": "ipython3",
   "version": "3.9.17"
  }
 },
 "nbformat": 4,
 "nbformat_minor": 2
}
